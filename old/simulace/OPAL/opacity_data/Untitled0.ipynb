{
 "metadata": {
  "name": "",
  "signature": "sha256:39dbbfd130161e6189efca366d32e7a4461907a36abdef9d27585260816098fc"
 },
 "nbformat": 3,
 "nbformat_minor": 0,
 "worksheets": [
  {
   "cells": [
    {
     "cell_type": "code",
     "collapsed": false,
     "input": [
      "from xzcotrin21 import *"
     ],
     "language": "python",
     "metadata": {},
     "outputs": [],
     "prompt_number": 1
    },
    {
     "cell_type": "code",
     "collapsed": false,
     "input": [
      "set_mol_dir('fergson/')"
     ],
     "language": "python",
     "metadata": {},
     "outputs": [],
     "prompt_number": 2
    },
    {
     "cell_type": "code",
     "collapsed": false,
     "input": [
      "read_extended_opac(70, 0.02, 'GN93hz', 0., '', 21, 0, 0, '')\n",
      "opac(0.02, 0.7, 0., 0., 5000*1e-6, 0.09096819297838009)\n",
      "print 0.1*10**e_opal_z.opact\n",
      "print e_opal_z.opact"
     ],
     "language": "python",
     "metadata": {},
     "outputs": [
      {
       "output_type": "stream",
       "stream": "stdout",
       "text": [
        "0.00213489763032\n",
        "-1.67062294483\n"
       ]
      }
     ],
     "prompt_number": 6
    },
    {
     "cell_type": "code",
     "collapsed": false,
     "input": [
      "opac(0.02, 0.7, 0., 0., 0.0035, 1)\n",
      "print e_opal_z.opact"
     ],
     "language": "python",
     "metadata": {},
     "outputs": [
      {
       "output_type": "stream",
       "stream": "stdout",
       "text": [
        "-1.93350827694\n"
       ]
      }
     ],
     "prompt_number": 22
    },
    {
     "cell_type": "code",
     "collapsed": false,
     "input": [
      "import numpy as np\n",
      "print np.log10(5000)\n",
      "print np.log10(0.09096819297838009)"
     ],
     "language": "python",
     "metadata": {},
     "outputs": [
      {
       "output_type": "stream",
       "stream": "stdout",
       "text": [
        "3.69897000434\n",
        "-1.04111043217\n"
       ]
      }
     ],
     "prompt_number": 10
    },
    {
     "cell_type": "code",
     "collapsed": false,
     "input": [
      "R = lambda rho, T: 1e-3*rho/(T*1e-6)**3"
     ],
     "language": "python",
     "metadata": {},
     "outputs": [],
     "prompt_number": 4
    },
    {
     "cell_type": "code",
     "collapsed": false,
     "input": [
      "R(1.1371024122297513e-05, 5000)"
     ],
     "language": "python",
     "metadata": {},
     "outputs": [
      {
       "metadata": {},
       "output_type": "pyout",
       "prompt_number": 5,
       "text": [
        "0.09096819297838009"
       ]
      }
     ],
     "prompt_number": 5
    },
    {
     "cell_type": "code",
     "collapsed": false,
     "input": [
      "read_basic_opal_opac(70, 0.02, 'GN93hz', 0., '')\n"
     ],
     "language": "python",
     "metadata": {},
     "outputs": []
    }
   ],
   "metadata": {}
  }
 ]
}