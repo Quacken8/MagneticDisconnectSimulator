{
 "metadata": {
  "name": "",
  "signature": "sha256:a703b47ae3de1af8a72cb03abb4f747a93bc7cfbb573df8f47cea076978580d3"
 },
 "nbformat": 3,
 "nbformat_minor": 0,
 "worksheets": []
}