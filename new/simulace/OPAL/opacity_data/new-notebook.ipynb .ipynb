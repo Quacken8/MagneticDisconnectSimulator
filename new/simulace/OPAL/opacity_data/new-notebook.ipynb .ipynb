{
 "cells": [
  {
   "cell_type": "code",
   "execution_count": 1,
   "id": "80b469bc",
   "metadata": {
    "collapsed": false
   },
   "outputs": [],
   "source": [
    "from xzcotrin21 import *"
   ]
  },
  {
   "cell_type": "code",
   "execution_count": 2,
   "id": "0be5bf00",
   "metadata": {
    "collapsed": false
   },
   "outputs": [],
   "source": [
    "set_mol_dir('fergson/')"
   ]
  },
  {
   "cell_type": "code",
   "execution_count": 6,
   "id": "5e456636",
   "metadata": {
    "collapsed": false
   },
   "outputs": [
    {
     "name": "stdout",
     "output_type": "stream",
     "text": [
      "0.00213489763032\n",
      "-1.67062294483\n"
     ]
    }
   ],
   "source": [
    "read_extended_opac(70, 0.02, 'GN93hz', 0., '', 21, 0, 0, '')\n",
    "opac(0.02, 0.7, 0., 0., 5000*1e-6, 0.09096819297838009)\n",
    "print 0.1*10**e_opal_z.opact\n",
    "print e_opal_z.opact"
   ]
  },
  {
   "cell_type": "code",
   "execution_count": 22,
   "id": "ed15c5c0",
   "metadata": {
    "collapsed": false
   },
   "outputs": [
    {
     "name": "stdout",
     "output_type": "stream",
     "text": [
      "-1.93350827694\n"
     ]
    }
   ],
   "source": [
    "opac(0.02, 0.7, 0., 0., 0.0035, 1)\n",
    "print e_opal_z.opact"
   ]
  },
  {
   "cell_type": "code",
   "execution_count": 10,
   "id": "0781acd6",
   "metadata": {
    "collapsed": false
   },
   "outputs": [
    {
     "name": "stdout",
     "output_type": "stream",
     "text": [
      "3.69897000434\n",
      "-1.04111043217\n"
     ]
    }
   ],
   "source": [
    "import numpy as np\n",
    "print np.log10(5000)\n",
    "print np.log10(0.09096819297838009)"
   ]
  },
  {
   "cell_type": "code",
   "execution_count": 4,
   "id": "453d1703",
   "metadata": {
    "collapsed": false
   },
   "outputs": [],
   "source": [
    "R = lambda rho, T: 1e-3*rho/(T*1e-6)**3"
   ]
  },
  {
   "cell_type": "code",
   "execution_count": 5,
   "id": "ede00ee0",
   "metadata": {
    "collapsed": false
   },
   "outputs": [
    {
     "data": {
      "text/plain": [
       "0.09096819297838009"
      ]
     },
     "execution_count": 5,
     "metadata": {},
     "output_type": "execute_result"
    }
   ],
   "source": [
    "R(1.1371024122297513e-05, 5000)"
   ]
  },
  {
   "cell_type": "code",
   "execution_count": null,
   "id": "8889c6ce",
   "metadata": {
    "collapsed": false
   },
   "outputs": [],
   "source": [
    "read_basic_opal_opac(70, 0.02, 'GN93hz', 0., '')\n"
   ]
  }
 ],
 "metadata": {},
 "nbformat": 4,
 "nbformat_minor": 5
}
